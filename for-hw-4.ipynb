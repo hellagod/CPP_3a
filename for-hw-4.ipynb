{
 "cells": [
  {
   "cell_type": "code",
   "execution_count": 1,
   "metadata": {},
   "outputs": [],
   "source": [
    "import numpy as np"
   ]
  },
  {
   "cell_type": "code",
   "execution_count": 9,
   "metadata": {},
   "outputs": [],
   "source": [
    "m = np.zeros((10, 10 + 1))"
   ]
  },
  {
   "cell_type": "code",
   "execution_count": 241,
   "metadata": {},
   "outputs": [],
   "source": [
    "def greedy_naive_solution(n, weights):\n",
    "    cliques = []\n",
    "    edges = [(i, j, weights[i][j]) for i in range(n) for j in range(i + 1, n)]\n",
    "    edges.sort(key=lambda x: x[-1], reverse=True)\n",
    "    used_edges = []\n",
    "    while edges:\n",
    "        new_clique = []\n",
    "        edge = edges.pop(0)\n",
    "        new_clique.append(edge)\n",
    "        for e in edges[:]:\n",
    "            if not any((e[0] in pair or e[1] in pair) for pair in used_edges):\n",
    "                new_clique.append(e)\n",
    "                used_edges.append(e)\n",
    "                break\n",
    "            edges.remove(e)\n",
    "        cliques.append(new_clique)\n",
    "    naive_sol = {}\n",
    "    for clique in cliques:\n",
    "        for i, j, w in clique:\n",
    "            naive_sol[(i, j)] = 1\n",
    "    return naive_sol"
   ]
  },
  {
   "cell_type": "code",
   "execution_count": 243,
   "metadata": {},
   "outputs": [],
   "source": [
    "test_n = 6\n",
    "test_w = [[-10, -3, -10, 4, -6, -1], \n",
    "          [10, -9, -10, 3, -4, 4], \n",
    "          [8, 0, -3, -2, -2, 4], \n",
    "          [0, -9, 9, 7, -5, -4], \n",
    "          [-5, 4, -5, 2, 8, 1], \n",
    "          [6, -1, 10, 10, 3, -3]]\n",
    "\n",
    "init_solution = greedy_naive_solution(test_n, test_w)"
   ]
  },
  {
   "cell_type": "code",
   "execution_count": 245,
   "metadata": {},
   "outputs": [
    {
     "data": {
      "text/plain": [
       "{(0, 3): 1, (1, 5): 1, (2, 3): 1}"
      ]
     },
     "execution_count": 245,
     "metadata": {},
     "output_type": "execute_result"
    }
   ],
   "source": [
    "init_solution"
   ]
  },
  {
   "cell_type": "code",
   "execution_count": 247,
   "metadata": {},
   "outputs": [
    {
     "name": "stdout",
     "output_type": "stream",
     "text": [
      "(0, 3)\n",
      "(1, 5)\n",
      "(2, 3)\n"
     ]
    }
   ],
   "source": [
    "# cliques = {}\n",
    "for cliq_idx in init_solution.keys():\n",
    "    print(cliq_idx)"
   ]
  },
  {
   "cell_type": "code",
   "execution_count": null,
   "metadata": {},
   "outputs": [],
   "source": [
    "class MatrixCPP(cliques, w, n):\n",
    "    # self.matrix\n",
    "    def __init__(cliques, w, n):\n",
    "        self.matrix = initialize_matrix(cliques, w, n)\n",
    "        return\n",
    "        \n",
    "    def initialize_matrix(cliques, w, n):\n",
    "        m = np.zeros((n, n + 1))\n",
    "    \n",
    "        for cliq_idx in cliques.keys():\n",
    "            # для вершин не входящих в эту клику заполнить потенциальность включения\n",
    "            # для вершин из клики - ?\n",
    "    \n",
    "        return m\n",
    "        \n",
    "    def modify_matrix(cliques, w, n):\n",
    "    \n",
    "        for cliq_idx in cliques.keys():\n",
    "            # для вершин не входящих в эту клику заполнить потенциальность включения\n",
    "            # для вершин из клики - ?\n",
    "            \n",
    "        return"
   ]
  },
  {
   "cell_type": "code",
   "execution_count": 30,
   "metadata": {},
   "outputs": [
    {
     "name": "stdout",
     "output_type": "stream",
     "text": [
      "(0, 3)\n",
      "(1, 5)\n",
      "(2, 3)\n"
     ]
    }
   ],
   "source": []
  },
  {
   "cell_type": "code",
   "execution_count": 185,
   "metadata": {},
   "outputs": [],
   "source": [
    "def modify_matrix(m, w, cliques, n, num_cliques, i, j, k):\n",
    "    # i - индекс строки перемещаемой вершины\n",
    "    # k - индекс клики куда, j - индекс клики откуда\n",
    "    \n",
    "    # изменение двух эл-тов строки перемещаемой вершины\n",
    "    m[i, j], m[i, k] = m[i, j] + m[i, k], m[i, k] - m[i, k]\n",
    "\n",
    "    # изменение клик \"откуда\" и \"куда\"\n",
    "    for idx in range(n):\n",
    "        if idx != i:\n",
    "            edge = [i, idx] if i < idx else [idx, i]\n",
    "            m[idx, j] += w[* edge]\n",
    "            m[idx, k] -= w[* edge]\n",
    "\n",
    "    # изменение строк соседей по клике \"откуда\"\n",
    "    for cliq_idx in cliques.keys():\n",
    "        # для вершин входящих в эту клику изменить потенциальность включения в др. клики\n",
    "        continue\n",
    "\n",
    "    # изменение соседей по клике \"куда\" (?)\n",
    "        \n",
    "    return m"
   ]
  },
  {
   "cell_type": "code",
   "execution_count": 233,
   "metadata": {},
   "outputs": [
    {
     "name": "stdout",
     "output_type": "stream",
     "text": [
      "a = 1 \t b = 2\n",
      "[1, 2]\n",
      "a = 2 \t b = 1\n",
      "[1, 2]\n"
     ]
    }
   ],
   "source": [
    "# [x - test_w[0][3] for x in test_w[0]]\n",
    "a, b = 1, 2\n",
    "print(f'a = {a} \\t b = {b}')\n",
    "print([a, b] if a < b else [b, a])\n",
    "\n",
    "a, b = b, a\n",
    "print(f'a = {a} \\t b = {b}')\n",
    "print([a, b] if a < b else [b, a])"
   ]
  },
  {
   "cell_type": "code",
   "execution_count": 107,
   "metadata": {},
   "outputs": [
    {
     "data": {
      "text/plain": [
       "3"
      ]
     },
     "execution_count": 107,
     "metadata": {},
     "output_type": "execute_result"
    }
   ],
   "source": [
    "e = [a, b]\n",
    "w[* e]"
   ]
  },
  {
   "cell_type": "code",
   "execution_count": 217,
   "metadata": {},
   "outputs": [],
   "source": [
    "# пока оч. произвольное\n",
    "def initial_partition(w):\n",
    "    cliques = {0: [0, 1], 1: [2, 3], 2: [4]} \n",
    "    return cliques\n",
    "\n",
    "def find_clique(cliques, i):\n",
    "    for idx, clique in cliques.items():\n",
    "        if i in clique:\n",
    "            return idx\n",
    "\n",
    "def get_delta(w, cliques, cur_clique, new_clique, i):\n",
    "    delta = 0\n",
    "    \n",
    "    for v in cliques[new_clique]:\n",
    "        delta += w[i][v]\n",
    "    \n",
    "    for v in cliques[cur_clique]:\n",
    "        if v != i: # в целом, эту проверку можно не делать, в эл-те w[i][i] точно ноль, \n",
    "            # но кажется что на больших графах без такой проверки будем много лишних операций вычитания делать\n",
    "            delta -= w[i][v]\n",
    "            \n",
    "    return delta\n",
    "\n",
    "\n",
    "def get_delta_dummy_clique(w, cliques, cur_clique, i):\n",
    "    gain = 0\n",
    "    for v in cliques[cur_clique]:\n",
    "        if v != i: \n",
    "            gain -= graph[i][v]\n",
    "    return gain\n",
    "\n",
    "\n",
    "def initialize_matrix(w, cliques):\n",
    "    n = len(w)\n",
    "    m = len(cliques)\n",
    "    \n",
    "    M = np.zeros((n, m + 1))\n",
    "    \n",
    "    for i in range(n):\n",
    "        my_clique = find_clique(cliques, i)\n",
    "        \n",
    "        for j in range(m):\n",
    "            if my_clique != j:\n",
    "                M[i, j] = get_delta(w, cliques, my_clique, j, i)\n",
    "        \n",
    "        # отдельно, т.к. фиктивных клик нет в словаре cliques\n",
    "        M[i, m] = get_delta_dummy_clique(w, cliques, my_clique, i)\n",
    "    \n",
    "    return M\n",
    "\n",
    "\n",
    "def obj_function(w, cliques):\n",
    "    total_weight = 0\n",
    "    \n",
    "    for clique in cliques.values():\n",
    "        for i in clique:\n",
    "            for j in clique:\n",
    "                if i != j and i < j:\n",
    "                    total_weight += w[i][j]\n",
    "                    \n",
    "    return total_weight"
   ]
  },
  {
   "cell_type": "code",
   "execution_count": 181,
   "metadata": {},
   "outputs": [],
   "source": [
    "# def modify_matrix(M, w, cliques, n, num_cliques, i, j, k):\n",
    "#     if k != num_cliques:\n",
    "        \n",
    "#     return M\n",
    "\n",
    "def local_search(w):\n",
    "    cur_solution = initial_partition(w)\n",
    "    cur_objective = obj_function(w, cur_solution)\n",
    "    \n",
    "    n, num_cliques = len(w), len(cur_solution)\n",
    "    m = initialize_matrix(w, cur_solution)\n",
    "    \n",
    "    while True:\n",
    "        i, j = np.unravel_index(np.argmax(M), M.shape)\n",
    "        max_delta = m[i, j]\n",
    "        \n",
    "        if max_delta <= 0: # поменять на == 0 (?) тут мб и не надо, а в табу-серч кажется стоит\n",
    "            break\n",
    "            \n",
    "        cur_clique = find_clique(cur_solution, i)\n",
    "        \n",
    "        # пересчет матрицы приращений\n",
    "        m = modify_matrix(m, w, cur_solution, n, num_cliques, i, cur_clique, j)\n",
    "        \n",
    "        # обновление словаря клик\n",
    "        #            вынести в отдельную функцию? или не стоит? что там с памятью...\n",
    "        if j == m.shape[1] - 1: # создаем новую клику\n",
    "            new_idx = len(cur_solution)\n",
    "            cur_solution[new_idx] = [i]\n",
    "        else:\n",
    "            cur_solution[cur_clique].remove(i)\n",
    "            cur_solution[j].append(i)\n",
    "        \n",
    "        cur_objective += max_delta # в целом, можно это пересчитать по готовому решению, \n",
    "        # мы же не сравниваем по значению целевой функции, но пусть пока будет не нужно будет обходить всю матрицу во второй раз\n",
    "    \n",
    "    return cur_solution, cur_objective"
   ]
  },
  {
   "cell_type": "code",
   "execution_count": 209,
   "metadata": {},
   "outputs": [
    {
     "name": "stdout",
     "output_type": "stream",
     "text": [
      "True\n"
     ]
    }
   ],
   "source": [
    "graph = np.array([\n",
    "    [0, 1, 2, 0, 0, 0],\n",
    "    [1, 0, 3, 1, 1, 0],\n",
    "    [2, 3, 0, 4, 2, 0],\n",
    "    [0, 1, 4, 0, 0, 0],\n",
    "    [0, 1, 2, 0, 0, 15],\n",
    "])\n",
    "\n",
    "graph.shape[1]\n",
    "i, j = np.unravel_index(np.argmax(graph), graph.shape)\n",
    "\n",
    "if j == graph.shape[1] - 1:\n",
    "    print(True)\n",
    "\n",
    "# best_solution = local_search(graph)\n",
    "# print(\"лучшее разбиение на клики:\", best_solution)"
   ]
  },
  {
   "cell_type": "code",
   "execution_count": null,
   "metadata": {},
   "outputs": [],
   "source": [
    "def tabu_search(w, max_k, len_tl):\n",
    "    cur_solution = initial_partition(w)\n",
    "    cur_objective = obj_function(w, cur_solution)\n",
    "    \n",
    "    tabu_lst, k = set(), 0\n",
    "    best_solution, best_objective = cur_solution, cur_objective\n",
    "    \n",
    "    m = initialize_matrix(w, cur_solution)\n",
    "    n, num_cliques = len(w), len(cur_solution)\n",
    "\n",
    "    while k < max_k:\n",
    "        i, j = np.unravel_index(np.argmax(M), M.shape)\n",
    "        max_delta = m[i, j]\n",
    "        \n",
    "        if max_delta == 0: # не менять на <= 0 (?)\n",
    "            break\n",
    "        \n",
    "\n",
    "    \n",
    "    return best_solution, best_objective"
   ]
  },
  {
   "cell_type": "code",
   "execution_count": 213,
   "metadata": {},
   "outputs": [
    {
     "name": "stdout",
     "output_type": "stream",
     "text": [
      "k 0 \t clique [0, 1]\n",
      "k 1 \t clique [2, 3]\n",
      "k 2 \t clique [4]\n",
      "\n",
      "len(cliques) 3\n"
     ]
    }
   ],
   "source": [
    "cliques = {0: [0, 1], 1: [2, 3], 2: [4]}\n",
    "\n",
    "for k, clique in cliques.items():\n",
    "    print(f'k {k} \\t clique {clique}')\n",
    "\n",
    "print(f\"\\nlen(cliques) {len(cliques)}\")"
   ]
  },
  {
   "cell_type": "code",
   "execution_count": 221,
   "metadata": {},
   "outputs": [
    {
     "name": "stdout",
     "output_type": "stream",
     "text": [
      "\n",
      "веса графа (матрица w):\n",
      " [[0 1 2 0 3]\n",
      " [1 0 3 1 2]\n",
      " [2 3 0 4 1]\n",
      " [0 1 4 0 5]\n",
      " [3 2 1 5 0]]\n",
      "\n",
      "произвольное начальное разбиение: {0: [0, 1], 1: [2, 3], 2: [4]}\n",
      "\n",
      "матрица приращений M:\n",
      " [[ 0.  1.  2. -1.]\n",
      " [ 0.  3.  1. -1.]\n",
      " [ 1.  0. -3. -4.]\n",
      " [-3.  0.  1. -4.]\n",
      " [ 5.  6.  0.  0.]]\n",
      "\n",
      "начальное значение целевой функции: 5\n"
     ]
    }
   ],
   "source": [
    "w = np.array([\n",
    "    [0, 1, 2, 0, 3],\n",
    "    [1, 0, 3, 1, 2],\n",
    "    [2, 3, 0, 4, 1],\n",
    "    [0, 1, 4, 0, 5],\n",
    "    [3, 2, 1, 5, 0]\n",
    "])\n",
    "print(\"\\nвеса графа (матрица w):\\n\", w)\n",
    "\n",
    "cliques = initial_partition(w)\n",
    "print(\"\\nпроизвольное начальное разбиение:\", cliques)\n",
    "\n",
    "M = initialize_matrix(w, cliques)\n",
    "print(\"\\nматрица приращений M:\\n\", M)\n",
    "\n",
    "initial_objective = obj_function(w, cliques)\n",
    "print(\"\\nначальное значение целевой функции:\", initial_objective)"
   ]
  },
  {
   "cell_type": "code",
   "execution_count": 231,
   "metadata": {},
   "outputs": [
    {
     "data": {
      "text/plain": [
       "array([[0, 1, 2, 0, 3],\n",
       "       [1, 0, 3, 1, 2],\n",
       "       [2, 3, 0, 4, 1],\n",
       "       [0, 1, 4, 0, 5],\n",
       "       [3, 2, 1, 5, 0]])"
      ]
     },
     "execution_count": 231,
     "metadata": {},
     "output_type": "execute_result"
    }
   ],
   "source": [
    "w"
   ]
  },
  {
   "cell_type": "code",
   "execution_count": 229,
   "metadata": {},
   "outputs": [
    {
     "name": "stdout",
     "output_type": "stream",
     "text": [
      "17\n"
     ]
    }
   ],
   "source": [
    "print(np.argmax(M))"
   ]
  },
  {
   "cell_type": "code",
   "execution_count": 227,
   "metadata": {},
   "outputs": [
    {
     "name": "stdout",
     "output_type": "stream",
     "text": [
      "[[ 0.  1.  2. -1.]\n",
      " [ 0.  3.  1. -1.]\n",
      " [ 1.  0. -3. -4.]\n",
      " [-3.  0.  1. -4.]\n",
      " [ 5.  6.  0.  0.]]\n",
      "17\n"
     ]
    },
    {
     "data": {
      "text/plain": [
       "(4, 1)"
      ]
     },
     "execution_count": 227,
     "metadata": {},
     "output_type": "execute_result"
    }
   ],
   "source": [
    "print(M)\n",
    "print(np.argmax(M))\n",
    "np.unravel_index(np.argmax(M), M.shape)"
   ]
  },
  {
   "cell_type": "code",
   "execution_count": 29,
   "metadata": {},
   "outputs": [
    {
     "data": {
      "text/plain": [
       "[5, 6]"
      ]
     },
     "execution_count": 29,
     "metadata": {},
     "output_type": "execute_result"
    }
   ],
   "source": [
    "list1 = [1, 2, 3, 4]\n",
    "list2 = [3, 4, 5, 6]\n",
    "\n",
    "[item for item in list2 if item not in list1]"
   ]
  },
  {
   "cell_type": "code",
   "execution_count": 201,
   "metadata": {},
   "outputs": [
    {
     "data": {
      "text/plain": [
       "1"
      ]
     },
     "execution_count": 201,
     "metadata": {},
     "output_type": "execute_result"
    }
   ],
   "source": [
    "get_delta(graph, {0: [0, 1], 1: [2, 3], 2: [4]}, 0, 1, 0)"
   ]
  },
  {
   "cell_type": "code",
   "execution_count": null,
   "metadata": {},
   "outputs": [],
   "source": []
  }
 ],
 "metadata": {
  "kernelspec": {
   "display_name": "Python 3 (ipykernel)",
   "language": "python",
   "name": "python3"
  },
  "language_info": {
   "codemirror_mode": {
    "name": "ipython",
    "version": 3
   },
   "file_extension": ".py",
   "mimetype": "text/x-python",
   "name": "python",
   "nbconvert_exporter": "python",
   "pygments_lexer": "ipython3",
   "version": "3.12.4"
  }
 },
 "nbformat": 4,
 "nbformat_minor": 4
}
