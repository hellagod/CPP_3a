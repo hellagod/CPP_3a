{
 "cells": [
  {
   "cell_type": "code",
   "execution_count": 5,
   "metadata": {},
   "outputs": [],
   "source": [
    "import numpy as np"
   ]
  },
  {
   "cell_type": "code",
   "execution_count": 31,
   "metadata": {},
   "outputs": [],
   "source": [
    "def greedy_naive_solution(weights, n):\n",
    "    cliques = []\n",
    "    edges = [(i, j, weights[i][j]) for i in range(n) for j in range(i + 1, n)]\n",
    "    edges.sort(key=lambda x: x[-1], reverse=True)\n",
    "    while edges:\n",
    "        new_clique = []\n",
    "        edge = edges.pop(0)\n",
    "        if edge[2] < 0:\n",
    "            break\n",
    "        new_clique.append(edge)\n",
    "        new_edges = list(filter(lambda e: not (e[0] in edge or e[1] in edge),edges))\n",
    "        cliques.append(new_clique)\n",
    "        edges = new_edges\n",
    "    sol = {}\n",
    "    for k, clique in enumerate(cliques):\n",
    "        sol[k] = set()\n",
    "        for i, j, w in clique:\n",
    "            sol[k].add(i)\n",
    "            sol[k].add(j)\n",
    "    for i, v in enumerate(set(i for i in range(n)) - set().union(*sol.values())):\n",
    "        sol[i + len(cliques)] = [v]\n",
    "    for k, clique in enumerate(cliques):\n",
    "        sol[k] = list(sol[k])\n",
    "    return sol"
   ]
  },
  {
   "cell_type": "code",
   "execution_count": 233,
   "metadata": {},
   "outputs": [
    {
     "data": {
      "text/plain": [
       "{0: [1], 1: [3], 2: [4], 3: [2, 5, 6], 4: [7], 5: [0, 8, 9]}"
      ]
     },
     "execution_count": 233,
     "metadata": {},
     "output_type": "execute_result"
    }
   ],
   "source": [
    "from setuptools.config.pyprojecttoml import load_file\n",
    "\n",
    "\n",
    "def remove_negative_vertices(weights):\n",
    "    n = len(weights)\n",
    "    vertex_sums = []\n",
    "    for i in range(n):\n",
    "        total = sum(weights[i][j] for j in range(n) if i != j)\n",
    "        vertex_sums.append(total)\n",
    "\n",
    "    if vertex_sums and max(vertex_sums) <=0:\n",
    "        return [min(*[enumerate(vertex_sums)],key=lambda x: x[1])[0]]\n",
    "    else:\n",
    "        return [i for i, s in  enumerate(vertex_sums) if s > 0]\n",
    "\n",
    "\n",
    "def vertex_deleter(weights, n):\n",
    "    vertexes = set(i for i in range(n))\n",
    "    cl = []\n",
    "    remaining_vertices = [1]\n",
    "    vert_name_map =  dict(zip(range(len(vertexes)), list(vertexes)))\n",
    "    while len(remaining_vertices) != 0:\n",
    "        remaining_vertices = remove_negative_vertices(weights)\n",
    "        if remaining_vertices:\n",
    "            cl.append(list(map(lambda x: vert_name_map[x], remaining_vertices)))\n",
    "        weights = [[weights[i][j] for j in range(len(weights)) if j not in remaining_vertices] for i in range(len(weights))\n",
    "                   if i not in remaining_vertices]\n",
    "        vertexes -= set(list(map(lambda x: vert_name_map[x], remaining_vertices)))\n",
    "        vert_name_map = dict(zip(range(len(weights)), vertexes))\n",
    "    return dict(zip(range(len(cl)), cl))\n",
    "\n",
    "weights_sasha = np.array(\n",
    "    [[3.0, 7.0, 8.0, 2.0, 1.0, 8.0, 10.0, -1e+20, 4.0, 5.0], \n",
    "     [7.0, 7.0, 10.0, 5.0, 7.0, 7.0, 3.0, 10.0, 6.0, 2.0], \n",
    "     [8.0, 10.0, -1e+20, -1e+20, -1e+20, 6.0, 3.0, 6.0, 1.0, 6.0], \n",
    "     [2.0, 5.0, -1e+20, 3.0, 3.0, -1e+20, 9.0, 5.0, -1e+20, 8.0], \n",
    "     [1.0, 7.0, -1e+20, 3.0, 8.0, -1e+20, -1e+20, 4.0, 5.0, 4.0], \n",
    "     [8.0, 7.0, 6.0, -1e+20, -1e+20, 7.0, 3.0, 2.0, 4.0, 9.0], \n",
    "     [10.0, 3.0, 3.0, 9.0, -1e+20, 3.0, -1e+20, 4.0, 8.0, 5.0], \n",
    "     [-1e+20, 10.0, 6.0, 5.0, 4.0, 2.0, 4.0, 10.0, -1e+20, -1e+20], \n",
    "     [4.0, 6.0, 1.0, -1e+20, 5.0, 4.0, 8.0, -1e+20, -1e+20, 8.0], \n",
    "     [5.0, 2.0, 6.0, 8.0, 4.0, 9.0, 5.0, -1e+20, 8.0, 8.0]])\n",
    "\n",
    "vertex_deleter(weights_sasha, 10)\n"
   ]
  },
  {
   "cell_type": "code",
   "execution_count": 11,
   "metadata": {},
   "outputs": [],
   "source": [
    "test_n = 6\n",
    "test_w = [[-10, -3, -10, 4, -6, -1], \n",
    "          [10, -9, -10, 3, -4, 4], \n",
    "          [8, 0, -3, -2, -2, 4], \n",
    "          [0, -9, 9, 7, -5, -4], \n",
    "          [-5, 4, -5, 2, 8, 1], \n",
    "          [6, -1, 10, 10, 3, -3]]\n",
    "\n",
    "init_solution = greedy_naive_solution(test_w, test_n)"
   ]
  },
  {
   "cell_type": "code",
   "execution_count": 13,
   "metadata": {},
   "outputs": [
    {
     "data": {
      "text/plain": [
       "{0: [0, 3], 1: [1, 5]}"
      ]
     },
     "execution_count": 13,
     "metadata": {},
     "output_type": "execute_result"
    }
   ],
   "source": [
    "init_solution"
   ]
  },
  {
   "cell_type": "code",
   "execution_count": null,
   "metadata": {},
   "outputs": [],
   "source": [
    "class MatrixCPP(cliques, w, n):\n",
    "    # self.matrix\n",
    "    \n",
    "    def __init__(cliques, w, n):\n",
    "        self.matrix = initialize_matrix(cliques, w, n)\n",
    "        return\n",
    "        \n",
    "    def initialize_matrix(cliques, w, n):\n",
    "        pass\n",
    "        \n",
    "    def modify_matrix(cliques, w, n):\n",
    "        pass"
   ]
  },
  {
   "cell_type": "code",
   "execution_count": 373,
   "metadata": {},
   "outputs": [
    {
     "name": "stdout",
     "output_type": "stream",
     "text": [
      "[[ 0.  1. -1. -1.]\n",
      " [ 0.  4. -1. -1.]\n",
      " [-1. -2. -4. -6.]\n",
      " [-3.  0. -4. -4.]\n",
      " [-1.  0. -2. -2.]]\n",
      "лучшее разбиение на клики: ({0: [0, 1], 1: [2, 3, 4], 2: []}, 7.0)\n"
     ]
    }
   ],
   "source": [
    "best_solution = local_search(graph)\n",
    "print(\"лучшее разбиение на клики:\", best_solution)"
   ]
  },
  {
   "cell_type": "code",
   "execution_count": 137,
   "metadata": {},
   "outputs": [
    {
     "data": {
      "text/plain": [
       "[3, 4]"
      ]
     },
     "execution_count": 137,
     "metadata": {},
     "output_type": "execute_result"
    }
   ],
   "source": [
    "lst = [2, 3, 4]\n",
    "lst.remove(2)\n",
    "lst"
   ]
  },
  {
   "cell_type": "code",
   "execution_count": 335,
   "metadata": {},
   "outputs": [
    {
     "name": "stdout",
     "output_type": "stream",
     "text": [
      "[[ 2.e+00  6.e+00  7.e+00 -1.e+20 -1.e+20]\n",
      " [ 6.e+00  1.e+01 -1.e+20 -1.e+20 -1.e+20]\n",
      " [ 7.e+00 -1.e+20 -1.e+20 -1.e+20  6.e+00]\n",
      " [-1.e+20 -1.e+20 -1.e+20  6.e+00  3.e+00]\n",
      " [-1.e+20 -1.e+20  6.e+00  3.e+00 -1.e+20]] \n",
      "\n",
      "vertex 0\n",
      " weights [ 0.e+00  6.e+00  7.e+00 -1.e+20 -1.e+20]\n",
      "\n",
      "\n",
      "vertex 1\n",
      " weights [ 6.e+00  0.e+00 -1.e+20 -1.e+20 -1.e+20]\n",
      "\n",
      "\n",
      "vertex 2\n",
      " weights [ 7.e+00 -1.e+20  0.e+00 -1.e+20  6.e+00]\n",
      "\n",
      "\n",
      "vertex 3\n",
      " weights [-1.e+20 -1.e+20 -1.e+20  0.e+00  3.e+00]\n",
      "\n",
      "\n",
      "vertex 4\n",
      " weights [-1.e+20 -1.e+20  6.e+00  3.e+00  0.e+00]\n",
      "\n",
      "\n"
     ]
    }
   ],
   "source": [
    "def get_weights(w, n, v):\n",
    "    if v == 0:\n",
    "        return np.concatenate(([0], w[v, 1:]))\n",
    "    left = w[:v, v]\n",
    "    right = w[v, v+ 1:] if v < n - 1 else []\n",
    "    return np.concatenate((left, [0], right)) \n",
    "\n",
    "print(sasha_w1[:5, :5], \"\\n\")\n",
    "for v in range(5):\n",
    "    print(f\"vertex {v}\\n weights {get_weights(sasha_w1[:5, :5], 5, v)}\\n\\n\")"
   ]
  },
  {
   "cell_type": "code",
   "execution_count": 420,
   "metadata": {},
   "outputs": [],
   "source": [
    "def get_edge(i, j):\n",
    "    return [i, j] if i < j else [j, i]\n",
    "\n",
    "def get_weights(w, n, v):\n",
    "    if v == 0:\n",
    "        return np.concatenate(([0], w[v, 1:]))\n",
    "        \n",
    "    left = w[:v, v]\n",
    "    right = w[v, v+ 1:] if v < n - 1 else []\n",
    "    \n",
    "    return np.concatenate((left, [0], right))\n",
    "    \n",
    "def modify_matrix(m, w, cliques, n, num_cliques, i, j, k):\n",
    "    # i - индекс вершины, j - индекс клики \"откуда\", k - индекс клики \"куда\"\n",
    "    cur_clique, new_clique = cliques[j], cliques[k]\n",
    "\n",
    "    m[i] = [x - m[i, k] for x in m[i]]\n",
    "\n",
    "    # изменение приращений клик \"откуда\" и \"куда\" (без учета соседей, им заменим строки целиком)\n",
    "    for v in range(n):\n",
    "        # if v not in (cur_clique + new_clique):\n",
    "        if v != i:\n",
    "            edge = get_edge(i, v)\n",
    "            m[v, j] -= w[* edge]\n",
    "\n",
    "            if k != num_cliques:\n",
    "                m[v, k] += w[* edge]\n",
    "\n",
    "    # подшивание столбца\n",
    "    if k == num_cliques:\n",
    "        new_column = get_weights(w, n, i)\n",
    "        for v in range(n):\n",
    "            if v != i:\n",
    "                v_weights = get_weights(w, n, v)\n",
    "                v_weights[i] = 0\n",
    "                new_column[v] -= sum(v_weights)\n",
    "        np.insert(m, num_cliques, new_column, axis=1)\n",
    "\n",
    "    # print(m)\n",
    "    # убирание столбца\n",
    "    if len(cur_clique) == 1:\n",
    "        m = np.delete(m, j, axis=1)\n",
    "        # print(\"after removal\")\n",
    "        # print(m)\n",
    "    \n",
    "    # пересчет строк соседей\n",
    "    # print(\"old_clique \\t\", cur_clique)\n",
    "    for v in cur_clique:\n",
    "        if v != i:\n",
    "            edge = get_edge(i, v)\n",
    "            # print(\"i v \", i, v)\n",
    "            # print(\"w[* edge] \\t \", w[* edge])\n",
    "            # print(f\"vertex {v} new vals\")\n",
    "            # print([x + w[* edge] for x in m[v]])\n",
    "            m[v] = [x + w[* edge] for x in m[v]]\n",
    "\n",
    "    # print(\"new_clique neighbours \\t\", new_clique)\n",
    "    for v in new_clique:\n",
    "        edge = get_edge(i, v)\n",
    "        # print(\"i v \", i, v)\n",
    "        # print(\"w[* edge] \\t \", w[* edge])\n",
    "        # print(f\"vertex {v} new vals\")\n",
    "        # print([x + w[* edge] for x in m[v]])\n",
    "        m[v] = [x - w[* edge] for x in m[v]]\n",
    "    \n",
    "    return m"
   ]
  },
  {
   "cell_type": "code",
   "execution_count": 171,
   "metadata": {},
   "outputs": [
    {
     "name": "stdout",
     "output_type": "stream",
     "text": [
      "True\n"
     ]
    },
    {
     "data": {
      "text/plain": [
       "array([0., 0., 0., 0., 0., 0., 0.])"
      ]
     },
     "execution_count": 171,
     "metadata": {},
     "output_type": "execute_result"
    }
   ],
   "source": [
    "list1 = [1, 2, 3]\n",
    "list2 = [4, 5, 6]\n",
    "\n",
    "if 9 not in (list1 + list2):\n",
    "    print(True)\n",
    "np.zeros(7)"
   ]
  },
  {
   "cell_type": "code",
   "execution_count": 291,
   "metadata": {},
   "outputs": [
    {
     "name": "stdout",
     "output_type": "stream",
     "text": [
      "(3, 2)\n"
     ]
    },
    {
     "data": {
      "text/plain": [
       "array([[1, 7, 2],\n",
       "       [3, 8, 4],\n",
       "       [5, 9, 6]])"
      ]
     },
     "execution_count": 291,
     "metadata": {},
     "output_type": "execute_result"
    }
   ],
   "source": [
    "matrix = np.array([[1, 2], [3, 4], [5, 6]])\n",
    "new_column = np.array([7, 8, 9])\n",
    "# np.column_stack((matrix, new_column))\n",
    "print(matrix.shape)\n",
    "np.insert(matrix, matrix.shape[1] - 1, new_column, axis=1)"
   ]
  },
  {
   "cell_type": "code",
   "execution_count": 233,
   "metadata": {},
   "outputs": [
    {
     "name": "stdout",
     "output_type": "stream",
     "text": [
      "a = 1 \t b = 2\n",
      "[1, 2]\n",
      "a = 2 \t b = 1\n",
      "[1, 2]\n"
     ]
    }
   ],
   "source": [
    "# [x - test_w[0][3] for x in test_w[0]]\n",
    "a, b = 1, 2\n",
    "print(f'a = {a} \\t b = {b}')\n",
    "print([a, b] if a < b else [b, a])\n",
    "\n",
    "a, b = b, a\n",
    "print(f'a = {a} \\t b = {b}')\n",
    "print([a, b] if a < b else [b, a])"
   ]
  },
  {
   "cell_type": "code",
   "execution_count": 275,
   "metadata": {},
   "outputs": [],
   "source": [
    "# cliques = {0: [0, 1], 1: [2, 3], 2: [4]}\n",
    "# print(cliques.keys())"
   ]
  },
  {
   "cell_type": "code",
   "execution_count": 107,
   "metadata": {},
   "outputs": [
    {
     "data": {
      "text/plain": [
       "3"
      ]
     },
     "execution_count": 107,
     "metadata": {},
     "output_type": "execute_result"
    }
   ],
   "source": [
    "e = [a, b]\n",
    "w[* e]"
   ]
  },
  {
   "cell_type": "code",
   "execution_count": 205,
   "metadata": {},
   "outputs": [],
   "source": [
    "def find_clique(cliques, i):\n",
    "    for idx, clique in cliques.items():\n",
    "        if i in clique:\n",
    "            return idx\n",
    "\n",
    "def get_delta(w, cliques, cur_clique, new_clique, i):\n",
    "    delta = 0\n",
    "    \n",
    "    for v in cliques[new_clique]:\n",
    "        edge = get_edge(i, v)\n",
    "        delta += w[* edge]\n",
    "    \n",
    "    for v in cliques[cur_clique]:\n",
    "        if v != i: # в целом, эту проверку можно не делать, в эл-те w[i][i] точно ноль, \n",
    "            # но кажется что на больших графах без такой проверки будем много лишних операций вычитания делать\n",
    "            edge = get_edge(i, v)\n",
    "            delta -= w[* edge]\n",
    "            \n",
    "    return delta\n",
    "\n",
    "# def get_edge(i, j):\n",
    "#     return [i, j] if i < j else [j, i]\n",
    "\n",
    "def get_delta_dummy_clique(w, cliques, cur_clique, i):\n",
    "    delta = 0\n",
    "    for v in cliques[cur_clique]:\n",
    "        if v != i: \n",
    "            edge = get_edge(i, v)\n",
    "            delta -= w[* edge]\n",
    "    return delta\n",
    "\n",
    "\n",
    "def initialize_matrix(w, cliques):\n",
    "    n = len(w)\n",
    "    num_cliques = len(cliques)\n",
    "    \n",
    "    m = np.zeros((n, num_cliques + 1))\n",
    "    \n",
    "    for i in range(n):\n",
    "        my_clique = find_clique(cliques, i)\n",
    "        \n",
    "        for j in range(num_cliques):\n",
    "            if my_clique != j:\n",
    "                m[i, j] = get_delta(w, cliques, my_clique, j, i)\n",
    "        \n",
    "        # отдельно, т.к. фиктивных клик нет в словаре cliques\n",
    "        m[i, num_cliques] = get_delta_dummy_clique(w, cliques, my_clique, i)\n",
    "    \n",
    "    return m\n",
    "\n",
    "\n",
    "def obj_function(w, cliques):\n",
    "    total_weight = 0\n",
    "    \n",
    "    for clique in cliques.values():\n",
    "        for i in clique:\n",
    "            for j in clique:\n",
    "                if i != j and i < j:\n",
    "                    total_weight += w[i][j]\n",
    "                    \n",
    "    return total_weight"
   ]
  },
  {
   "cell_type": "code",
   "execution_count": 492,
   "metadata": {},
   "outputs": [],
   "source": [
    "def local_search(w, n, constructive_func, save_iters=False):\n",
    "    cur_solution = constructive_func(w, n)\n",
    "    \n",
    "    cur_objective = obj_function(w, cur_solution)\n",
    "    # print(f'initial cliques : \\n{cur_solution}\\n')\n",
    "    \n",
    "    n, num_cliques = len(w), len(cur_solution)\n",
    "    m = initialize_matrix(w, cur_solution)\n",
    "    # print(f'initial m : \\n{m}\\n')\n",
    "\n",
    "    if save_iters:\n",
    "        iter = 0\n",
    "        deltas = [cur_objective]\n",
    "        \n",
    "    while True:\n",
    "        i, j = np.unravel_index(np.argmax(m), m.shape)\n",
    "        max_delta = m[i, j]\n",
    "        # print(f'максимальное приращение на итерации {iter}: {max_delta}')\n",
    "        # print(f'предыдущее значение ц.ф.: {cur_objective}')\n",
    "        # print(f'v {i} \\t old_clique {find_clique(cur_solution, i)} \\t new_clique {j}\\n')\n",
    "        # print(f'cur obj val {cur_objective}, \\ncur cliques {cur_solution}')\n",
    "        # print(f'iter-{iter} m : \\n{m}\\n')\n",
    "        \n",
    "        if max_delta == 0: # поменять на <= 0 (?)\n",
    "            break\n",
    "        # if iter >= 20:\n",
    "        #     break\n",
    "            \n",
    "        cur_clique = find_clique(cur_solution, i)\n",
    "        \n",
    "        # пересчет матрицы приращений\n",
    "        m = modify_matrix(m, w, cur_solution, n, num_cliques, i, cur_clique, j)\n",
    "        \n",
    "        # обновление словаря клик\n",
    "        #            вынести в отдельную функцию? или не стоит? что там с памятью...\n",
    "        # print(f\"cur_solution {cur_solution}\")\n",
    "        # print(f\"i = {i} \\t cur_solution[cur_clique] {cur_solution[cur_clique]}\")\n",
    "        cur_solution[cur_clique].remove(i)\n",
    "\n",
    "        needs_reindex = False\n",
    "        if not cur_solution[cur_clique]:\n",
    "            del cur_solution[cur_clique]\n",
    "            needs_reindex = True\n",
    "        if j == m.shape[1]: # создаем новую клику\n",
    "            print(f\"j={j} \\t m.shape[1]={m.shape[1]}\")\n",
    "            new_idx = len(cur_solution)\n",
    "            cur_solution[new_idx] = [i]\n",
    "        else:\n",
    "            cur_solution[j].append(i)\n",
    "        \n",
    "        if needs_reindex:\n",
    "            # переиндексация ключей после удаления пустой клики\n",
    "            old_keys = list(cur_solution.keys())\n",
    "            for new_idx, old_key in enumerate(old_keys):\n",
    "                cur_solution[new_idx] = cur_solution.pop(old_key)\n",
    "                \n",
    "        # print(f\"cur_solution {cur_solution}\")\n",
    "\n",
    "        # print(f'iter-{iter} end-m : \\n{m}\\n\\n')\n",
    "        cur_objective += max_delta # в целом, можно это пересчитать по готовому решению, \n",
    "        # мы же не сравниваем по значению целевой функции, но пусть пока будет не нужно будет обходить всю матрицу во второй раз\n",
    "        \n",
    "        if save_iters:\n",
    "            deltas.append(max_delta)\n",
    "            iter += 1\n",
    "            \n",
    "    return (cur_solution, cur_objective) if not save_iters else (cur_solution, cur_objective, deltas)\n",
    "\n"
   ]
  },
  {
   "cell_type": "code",
   "execution_count": 500,
   "metadata": {},
   "outputs": [
    {
     "data": {
      "text/plain": [
       "array([[ 0, -4, 18, -1, 12],\n",
       "       [ 0,  0, -5,  6, -2],\n",
       "       [ 0,  0,  0,  2, 17],\n",
       "       [ 0,  0,  0,  0, 15],\n",
       "       [ 0,  0,  0,  0,  0]])"
      ]
     },
     "execution_count": 500,
     "metadata": {},
     "output_type": "execute_result"
    }
   ],
   "source": [
    "test_w_1"
   ]
  },
  {
   "cell_type": "code",
   "execution_count": 502,
   "metadata": {},
   "outputs": [
    {
     "data": {
      "text/plain": [
       "5"
      ]
     },
     "execution_count": 502,
     "metadata": {},
     "output_type": "execute_result"
    }
   ],
   "source": [
    "test_n_1"
   ]
  },
  {
   "cell_type": "code",
   "execution_count": 494,
   "metadata": {},
   "outputs": [
    {
     "name": "stdout",
     "output_type": "stream",
     "text": [
      "лучшее разбиение на клики: ({0: [0, 2, 4, 3], 1: [1]}, 63.0, [33, 14.0, 16.0])\n"
     ]
    }
   ],
   "source": [
    "# best_solution = local_search(symmetric_test_w_1, test_n_1, greedy_naive_solution)\n",
    "best_solution = local_search(test_w_1, test_n_1, greedy_naive_solution, save_iters=True)\n",
    "# best_solution = local_search(w2)\n",
    "print(\"лучшее разбиение на клики:\", best_solution)"
   ]
  },
  {
   "cell_type": "code",
   "execution_count": 498,
   "metadata": {},
   "outputs": [
    {
     "name": "stdout",
     "output_type": "stream",
     "text": [
      "63.0\n"
     ]
    },
    {
     "data": {
      "text/plain": [
       "[33, 47.0, 63.0]"
      ]
     },
     "execution_count": 498,
     "metadata": {},
     "output_type": "execute_result"
    }
   ],
   "source": [
    "from itertools import accumulate\n",
    "\n",
    "print(sum([33, 14.0, 16.0]))\n",
    "list(accumulate([33, 14.0, 16.0]))"
   ]
  },
  {
   "cell_type": "code",
   "execution_count": 468,
   "metadata": {},
   "outputs": [
    {
     "name": "stdout",
     "output_type": "stream",
     "text": [
      "лучшее разбиение на клики: ({0: [3], 1: [4, 2], 2: [1], 3: [6, 5, 9], 4: [8, 7, 0]}, 51.0)\n"
     ]
    }
   ],
   "source": [
    "sasha_n1 = 10\n",
    "sasha_w1 = np.array([[2.0, 6.0, 7.0, -1e+20, -1e+20, -1e+20, -1e+20, 6.0, 3.0, -1e+20], \n",
    "             [6.0, 10.0, -1e+20, -1e+20, -1e+20, 3.0, -1e+20, -1e+20, 3.0, -1e+20], \n",
    "             [7.0, -1e+20, -1e+20, -1e+20, 6.0, 7.0, -1e+20, -1e+20, -1e+20, -1e+20], \n",
    "             [-1e+20, -1e+20, -1e+20, 6.0, 3.0, -1e+20, -1e+20, 4.0, -1e+20, -1e+20], \n",
    "             [-1e+20, -1e+20, 6.0, 3.0, -1e+20, 9.0, -1e+20, -1e+20, -1e+20, -1e+20], \n",
    "             [-1e+20, 3.0, 7.0, -1e+20, 9.0, -1e+20, 10.0, 5.0, 4.0, 6.0],\n",
    "             [-1e+20, -1e+20, -1e+20, -1e+20, -1e+20, 10.0, -1e+20, -1e+20, 10.0, 10.0], \n",
    "             [6.0, -1e+20, -1e+20, 4.0, -1e+20, 5.0, -1e+20, 6.0, 10.0, 1.0], \n",
    "             [3.0, 3.0, -1e+20, -1e+20, -1e+20, 4.0, 10.0, 10.0, -1e+20, -1e+20], \n",
    "             [-1e+20, -1e+20, -1e+20, -1e+20, -1e+20, 6.0, 10.0, 1.0, -1e+20, 3.0]])\n",
    "\n",
    "# sasha_best_solution_1 = local_search(sasha_w1, sasha_n1, greedy_naive_solution)\n",
    "sasha_best_solution_1 = local_search(sasha_w1, sasha_n1, vertex_deleter)\n",
    "\n",
    "print(\"лучшее разбиение на клики:\", sasha_best_solution_1)\n",
    "# {'f': 51.0, 'cliques': [[0, 8, 7], [2, 4, 5], [9, 6]]}\n"
   ]
  },
  {
   "cell_type": "code",
   "execution_count": 470,
   "metadata": {},
   "outputs": [
    {
     "data": {
      "text/plain": [
       "48.0"
      ]
     },
     "execution_count": 470,
     "metadata": {},
     "output_type": "execute_result"
    }
   ],
   "source": [
    "obj_function(sasha_w1, {0: [5, 6, 9], 1: [3, 7], 2: [8, 0, 1], 3: [2, 4]})"
   ]
  },
  {
   "cell_type": "code",
   "execution_count": 472,
   "metadata": {},
   "outputs": [
    {
     "data": {
      "text/plain": [
       "51.0"
      ]
     },
     "execution_count": 472,
     "metadata": {},
     "output_type": "execute_result"
    }
   ],
   "source": [
    "obj_function(sasha_w1, {0: [0, 8, 7], 1: [2, 4, 5], 2: [9, 6], 3: [1], 4: [3]})"
   ]
  },
  {
   "cell_type": "code",
   "execution_count": 474,
   "metadata": {},
   "outputs": [
    {
     "data": {
      "text/plain": [
       "51.0"
      ]
     },
     "execution_count": 474,
     "metadata": {},
     "output_type": "execute_result"
    }
   ],
   "source": [
    "obj_function(sasha_w1, {0: [3], 1: [4, 2], 5: [1], 6: [6, 5, 9], 8: [8, 7, 0]})"
   ]
  },
  {
   "cell_type": "code",
   "execution_count": 476,
   "metadata": {},
   "outputs": [
    {
     "name": "stdout",
     "output_type": "stream",
     "text": [
      "лучшее разбиение на клики: ({0: [9, 5], 1: [14, 2, 4], 2: [13, 15, 0, 8, 1, 17, 3, 11, 6], 3: [19, 18, 10, 7, 12], 4: [16]}, 273.0)\n"
     ]
    }
   ],
   "source": [
    "sasha_n2 = 20\n",
    "sasha_w2 = np.array(\n",
    "    [[0.0, 7.0, -1e+20, 6.0, 10.0, 2.0, 7.0, 8.0, 9.0, 8.0, 2.0, 7.0, 1.0, 9.0, 8.0, 10.0, 5.0, 9.0, 2.0, 4.0], \n",
    "     [7.0, 0.0, 2.0, 9.0, 9.0, 4.0, 1.0, -1e+20, 7.0, 8.0, 2.0, 2.0, 3.0, 2.0, 1.0, 7.0, 9.0, 7.0, -1e+20, 4.0], \n",
    "     [-1e+20, 2.0, 0.0, -1e+20, 3.0, 2.0, 3.0, -1e+20, 6.0, 2.0, -1e+20, 9.0, 1.0, -1e+20, 10.0, 6.0, 3.0, -1e+20, 4.0, 5.0], \n",
    "     [6.0, 9.0, -1e+20, 0.0, 4.0, -1e+20, 1.0, 7.0, 3.0, 4.0, 7.0, 5.0, 4.0, 3.0, 1.0, 3.0, -1e+20, 9.0, 8.0, 8.0], \n",
    "     [10.0, 9.0, 3.0, 4.0, 0.0, -1e+20, 5.0, -1e+20, 4.0, 6.0, 8.0, 1.0, 7.0, -1e+20, 7.0, -1e+20, 10.0, 8.0, 3.0, 1.0], \n",
    "     [2.0, 4.0, 2.0, -1e+20, -1e+20, 0.0, -1e+20, 6.0, 1.0, 6.0, -1e+20, 10.0, 8.0, 3.0, 1.0, 1.0, 6.0, 3.0, 7.0, 1.0], \n",
    "     [7.0, 1.0, 3.0, 1.0, 5.0, -1e+20, 0.0, -1e+20, 2.0, 6.0, -1e+20, 6.0, -1e+20, 3.0, 1.0, 3.0, -1e+20, 6.0, 7.0, 10.0], \n",
    "     [8.0, -1e+20, -1e+20, 7.0, -1e+20, 6.0, -1e+20, 0.0, 3.0, 1.0, 7.0, 10.0, 7.0, -1e+20, -1e+20, -1e+20, -1e+20, 10.0, 6.0, 1.0], \n",
    "     [9.0, 7.0, 6.0, 3.0, 4.0, 1.0, 2.0, 3.0, 0.0, 10.0, 2.0, 6.0, 1.0, 8.0, 5.0, 6.0, -1e+20, 1.0, -1e+20, -1e+20], \n",
    "     [8.0, 8.0, 2.0, 4.0, 6.0, 6.0, 6.0, 1.0, 10.0, 0.0, 6.0, 4.0, 2.0, 5.0, -1e+20, -1e+20, -1e+20, 10.0, -1e+20, -1e+20], \n",
    "     [2.0, 2.0, -1e+20, 7.0, 8.0, -1e+20, -1e+20, 7.0, 2.0, 6.0, 0.0, 10.0, 5.0, 9.0, 1.0, -1e+20, 5.0, -1e+20, 6.0, 3.0], \n",
    "     [7.0, 2.0, 9.0, 5.0, 1.0, 10.0, 6.0, 10.0, 6.0, 4.0, 10.0, 0.0, 8.0, 3.0, 8.0, 5.0, 4.0, 6.0, -1e+20, -1e+20], \n",
    "     [1.0, 3.0, 1.0, 4.0, 7.0, 8.0, -1e+20, 7.0, 1.0, 2.0, 5.0, 8.0, 0.0, -1e+20, 8.0, -1e+20, 7.0, -1e+20, 4.0, 8.0], \n",
    "     [9.0, 2.0, -1e+20, 3.0, -1e+20, 3.0, 3.0, -1e+20, 8.0, 5.0, 9.0, 3.0, -1e+20, 0.0, -1e+20, 4.0, 10.0, 2.0, 6.0, 4.0], \n",
    "     [8.0, 1.0, 10.0, 1.0, 7.0, 1.0, 1.0, -1e+20, 5.0, -1e+20, 1.0, 8.0, 8.0, -1e+20, 0.0, 9.0, -1e+20, 4.0, -1e+20, -1e+20], \n",
    "     [10.0, 7.0, 6.0, 3.0, -1e+20, 1.0, 3.0, -1e+20, 6.0, -1e+20, -1e+20, 5.0, -1e+20, 4.0, 9.0, 0.0, 3.0, 6.0, 3.0, 2.0], \n",
    "     [5.0, 9.0, 3.0, -1e+20, 10.0, 6.0, -1e+20, -1e+20, -1e+20, -1e+20, 5.0, 4.0, 7.0, 10.0, -1e+20, 3.0, 0.0, 6.0, 2.0, 7.0], \n",
    "     [9.0, 7.0, -1e+20, 9.0, 8.0, 3.0, 6.0, 10.0, 1.0, 10.0, -1e+20, 6.0, -1e+20, 2.0, 4.0, 6.0, 6.0, 0.0, 9.0, 5.0], \n",
    "     [2.0, -1e+20, 4.0, 8.0, 3.0, 7.0, 7.0, 6.0, -1e+20, -1e+20, 6.0, -1e+20, 4.0, 6.0, -1e+20, 3.0, 2.0, 9.0, 0.0, 10.0], \n",
    "     [4.0, 4.0, 5.0, 8.0, 1.0, 1.0, 10.0, 1.0, -1e+20, -1e+20, 3.0, -1e+20, 8.0, 4.0, -1e+20, 2.0, 7.0, 5.0, 10.0, 0.0]])\n",
    "\n",
    "# sasha_best_solution_2 = local_search(sasha_w2, sasha_n2, greedy_naive_solution)\n",
    "sasha_best_solution_2 = local_search(sasha_w2, sasha_n2, vertex_deleter)\n",
    "print(\"лучшее разбиение на клики:\", sasha_best_solution_2)\n",
    "\n",
    "# 'f': 321.0, \n",
    "# 'cliques': [[0, 1, 3, 4, 6, 8, 9, 11, 17], \n",
    "#             [10, 13, 16, 18, 19], \n",
    "#             [2, 14, 15], [12, 5, 7]]"
   ]
  },
  {
   "cell_type": "code",
   "execution_count": 478,
   "metadata": {},
   "outputs": [
    {
     "data": {
      "text/plain": [
       "273.0"
      ]
     },
     "execution_count": 478,
     "metadata": {},
     "output_type": "execute_result"
    }
   ],
   "source": [
    "# 3\n",
    "obj_function(sasha_w2, {0: [9, 5], 1: [14, 2, 4], 2: [13, 15, 0, 8, 1, 17, 3, 11, 6], 3: [19, 18, 10, 7, 12], 4: [16]})"
   ]
  },
  {
   "cell_type": "code",
   "execution_count": 480,
   "metadata": {},
   "outputs": [
    {
     "data": {
      "text/plain": [
       "321.0"
      ]
     },
     "execution_count": 480,
     "metadata": {},
     "output_type": "execute_result"
    }
   ],
   "source": [
    "obj_function(sasha_w2, {0: [2, 14, 15], 1: [5, 12, 7], 2: [0, 1, 3, 4, 6, 8, 9, 11, 17], 3: [10, 13, 16, 18, 19]})\n"
   ]
  },
  {
   "cell_type": "code",
   "execution_count": 482,
   "metadata": {},
   "outputs": [
    {
     "data": {
      "text/plain": [
       "219.0"
      ]
     },
     "execution_count": 482,
     "metadata": {},
     "output_type": "execute_result"
    }
   ],
   "source": [
    "# 2\n",
    "obj_function(sasha_w2, {0: [14, 2, 4, 1, 6], \n",
    "                        1: [9], 2: [5], \n",
    "                        3: [13, 15, 0, 8, 17, 3, 11], \n",
    "                        4: [19, 18, 10, 7, 12], 5: [16]})"
   ]
  },
  {
   "cell_type": "code",
   "execution_count": 444,
   "metadata": {},
   "outputs": [
    {
     "data": {
      "text/plain": [
       "255.0"
      ]
     },
     "execution_count": 444,
     "metadata": {},
     "output_type": "execute_result"
    }
   ],
   "source": [
    "# 1\n",
    "obj_function(sasha_w2, {0: [2, 14, 15], 1: [11, 5, 12, 7], 2: [19, 6, 18, 17, 3, 0, 4], 3: [8, 9, 1], 4: [16, 13, 10]})\n",
    "# {0: [2, 14, 15], 1: [11, 5, 12, 7], 2: [19, 6, 18, 17, 3, 0, 4], 3: [8, 9, 1], 4: [16, 13, 10]}"
   ]
  },
  {
   "cell_type": "code",
   "execution_count": 446,
   "metadata": {},
   "outputs": [
    {
     "name": "stdout",
     "output_type": "stream",
     "text": [
      "лучшее разбиение на клики: ({0: [4], 1: [12, 0], 2: [14, 9], 3: [8, 7], 4: [11, 17], 5: [16], 6: [13, 10, 15], 7: [6, 3], 8: [1], 9: [18, 5, 2], 10: [19]}, 79.0)\n"
     ]
    }
   ],
   "source": [
    "sasha_n3 = 20\n",
    "sasha_w3 = np.array([\n",
    "    [9.0, -1e+20, -1e+20, -1e+20, -1e+20, -1e+20, 3.0, -1e+20, -1e+20, -1e+20, -1e+20, -1e+20, 1.0, -1e+20, -1e+20, -1e+20, -1e+20, -1e+20, -1e+20, -1e+20], \n",
    "    [-1e+20, -1e+20, 10.0, 8.0, -1e+20, -1e+20, -1e+20, -1e+20, -1e+20, -1e+20, -1e+20, -1e+20, -1e+20, -1e+20, -1e+20, -1e+20, -1e+20, -1e+20, -1e+20, -1e+20], \n",
    "    [-1e+20, 10.0, 5.0, -1e+20, 1.0, 6.0, -1e+20, -1e+20, -1e+20, -1e+20, -1e+20, -1e+20, -1e+20, 8.0, -1e+20, -1e+20, 6.0, -1e+20, 8.0, 7.0], \n",
    "    [-1e+20, 8.0, -1e+20, 3.0, -1e+20, -1e+20, 9.0, -1e+20, -1e+20, -1e+20, 5.0, 5.0, -1e+20, -1e+20, -1e+20, -1e+20, -1e+20, -1e+20, -1e+20, -1e+20], \n",
    "    [-1e+20, -1e+20, 1.0, -1e+20, -1e+20, -1e+20, -1e+20, -1e+20, -1e+20, -1e+20, -1e+20, -1e+20, -1e+20, -1e+20, -1e+20, -1e+20, -1e+20, -1e+20, -1e+20, -1e+20], \n",
    "    [-1e+20, -1e+20, 6.0, -1e+20, -1e+20, -1e+20, 1.0, -1e+20, -1e+20, -1e+20, 8.0, -1e+20, -1e+20, -1e+20, -1e+20, -1e+20, -1e+20, -1e+20, 10.0, 10.0], \n",
    "    [3.0, -1e+20, -1e+20, 9.0, -1e+20, 1.0, 1.0, -1e+20, -1e+20, -1e+20, -1e+20, -1e+20, -1e+20, 5.0, -1e+20, -1e+20, -1e+20, 9.0, -1e+20, 9.0], \n",
    "    [-1e+20, -1e+20, -1e+20, -1e+20, -1e+20, -1e+20, -1e+20, -1e+20, 10.0, -1e+20, -1e+20, 4.0, -1e+20, -1e+20, -1e+20, -1e+20, -1e+20, -1e+20, 4.0, -1e+20], \n",
    "    [-1e+20, -1e+20, -1e+20, -1e+20, -1e+20, -1e+20, -1e+20, 10.0, -1e+20, -1e+20, -1e+20, -1e+20, -1e+20, 1.0, 4.0, -1e+20, -1e+20, -1e+20, -1e+20, -1e+20], \n",
    "    [-1e+20, -1e+20, -1e+20, -1e+20, -1e+20, -1e+20, -1e+20, -1e+20, -1e+20, -1e+20, -1e+20, -1e+20, 5.0, -1e+20, 7.0, -1e+20, -1e+20, -1e+20, -1e+20, -1e+20], \n",
    "    [-1e+20, -1e+20, -1e+20, 5.0, -1e+20, 8.0, -1e+20, -1e+20, -1e+20, -1e+20, -1e+20, -1e+20, -1e+20, 7.0, -1e+20, 3.0, -1e+20, -1e+20, -1e+20, -1e+20], \n",
    "    [-1e+20, -1e+20, -1e+20, 5.0, -1e+20, -1e+20, -1e+20, 4.0, -1e+20, -1e+20, -1e+20, -1e+20, -1e+20, 5.0, -1e+20, -1e+20, -1e+20, 9.0, 4.0, -1e+20], \n",
    "    [1.0, -1e+20, -1e+20, -1e+20, -1e+20, -1e+20, -1e+20, -1e+20, -1e+20, 5.0, -1e+20, -1e+20, -1e+20, -1e+20, -1e+20, -1e+20, -1e+20, -1e+20, -1e+20, -1e+20], \n",
    "    [-1e+20, -1e+20, 8.0, -1e+20, -1e+20, -1e+20, 5.0, -1e+20, 1.0, -1e+20, 7.0, 5.0, -1e+20, -1e+20, 5.0, 9.0, 2.0, -1e+20, -1e+20, -1e+20], \n",
    "    [-1e+20, -1e+20, -1e+20, -1e+20, -1e+20, -1e+20, -1e+20, -1e+20, 4.0, 7.0, -1e+20, -1e+20, -1e+20, 5.0, -1e+20, -1e+20, -1e+20, -1e+20, -1e+20, -1e+20], \n",
    "    [-1e+20, -1e+20, -1e+20, -1e+20, -1e+20, -1e+20, -1e+20, -1e+20, -1e+20, -1e+20, 3.0, -1e+20, -1e+20, 9.0, -1e+20, -1e+20, -1e+20, 10.0, -1e+20, -1e+20], \n",
    "    [-1e+20, -1e+20, 6.0, -1e+20, -1e+20, -1e+20, -1e+20, -1e+20, -1e+20, -1e+20, -1e+20, -1e+20, -1e+20, 2.0, -1e+20, -1e+20, -1e+20, 3.0, -1e+20, -1e+20], \n",
    "    [-1e+20, -1e+20, -1e+20, -1e+20, -1e+20, -1e+20, 9.0, -1e+20, -1e+20, -1e+20, -1e+20, 9.0, -1e+20, -1e+20, -1e+20, 10.0, 3.0, -1e+20, -1e+20, -1e+20], \n",
    "    [-1e+20, -1e+20, 8.0, -1e+20, -1e+20, 10.0, -1e+20, 4.0, -1e+20, -1e+20, -1e+20, 4.0, -1e+20, -1e+20, -1e+20, -1e+20, -1e+20, -1e+20, -1e+20, -1e+20], \n",
    "    [-1e+20, -1e+20, 7.0, -1e+20, -1e+20, 10.0, 9.0, -1e+20, -1e+20, -1e+20, -1e+20, -1e+20, -1e+20, -1e+20, -1e+20, -1e+20, -1e+20, -1e+20, -1e+20, -1e+20]\n",
    "])\n",
    "\n",
    "# sasha_best_solution_3 = local_search(sasha_w3, sasha_n3, greedy_naive_solution)\n",
    "sasha_best_solution_3 = local_search(sasha_w3, sasha_n3, vertex_deleter)\n",
    "print(\"лучшее разбиение на клики:\", sasha_best_solution_3)\n",
    "\n",
    "# 'f': 87.0, \n",
    "# 'cliques': [[0, 12], [1, 3], [10, 13, 15], [17, 11], [2, 18, 5], [19, 6], [8, 7], [9, 14]]\n"
   ]
  },
  {
   "cell_type": "code",
   "execution_count": 408,
   "metadata": {},
   "outputs": [
    {
     "data": {
      "text/plain": [
       "79.0"
      ]
     },
     "execution_count": 408,
     "metadata": {},
     "output_type": "execute_result"
    }
   ],
   "source": [
    "# 3\n",
    "obj_function(sasha_w3, {0: [4], 1: [12, 0], 2: [14, 9], 3: [8, 7], 4: [11, 17], 5: [16], 6: [13, 10, 15], 7: [6, 3], 8: [1], 9: [18, 5, 2], 10: [19]})"
   ]
  },
  {
   "cell_type": "code",
   "execution_count": 410,
   "metadata": {},
   "outputs": [
    {
     "data": {
      "text/plain": [
       "71.0"
      ]
     },
     "execution_count": 410,
     "metadata": {},
     "output_type": "execute_result"
    }
   ],
   "source": [
    "# 1\n",
    "obj_function(sasha_w3, {0: [6, 17], 1: [8, 7], 2: [11, 3], 3: [15, 13, 10], 4: [1, 2], 5: [0, 12], 6: [4], 7: [18, 5], 8: [14, 9], 9: [16], 10: [19]})\n",
    "# {0: [2, 14, 15], 1: [11, 5, 12, 7], 2: [19, 6, 18, 17, 3, 0, 4], 3: [8, 9, 1], 4: [16, 13, 10]}"
   ]
  },
  {
   "cell_type": "code",
   "execution_count": 412,
   "metadata": {},
   "outputs": [
    {
     "data": {
      "text/plain": [
       "78.0"
      ]
     },
     "execution_count": 412,
     "metadata": {},
     "output_type": "execute_result"
    }
   ],
   "source": [
    "# 2\n",
    "obj_function(sasha_w3, {0: [4], 1: [12, 0], 2: [1, 3], 3: [14, 9], 4: [8, 7], 5: [6, 17], 6: [11], 7: [16], 8: [13, 10, 15], 9: [18, 5, 2], 10: [19]})"
   ]
  },
  {
   "cell_type": "code",
   "execution_count": 454,
   "metadata": {},
   "outputs": [
    {
     "name": "stdout",
     "output_type": "stream",
     "text": [
      "w1: \n",
      " [[0 1 2 0 3]\n",
      " [1 0 3 1 2]\n",
      " [2 3 0 4 1]\n",
      " [0 1 4 0 5]\n",
      " [3 2 1 5 0]] \n",
      "\n",
      "n1: 5\n"
     ]
    }
   ],
   "source": [
    "print(f\"w1: \\n {w1} \\n\\nn1: {n1}\")"
   ]
  },
  {
   "cell_type": "code",
   "execution_count": 456,
   "metadata": {},
   "outputs": [
    {
     "name": "stdout",
     "output_type": "stream",
     "text": [
      "лучшее разбиение на клики: ({0: [3, 4, 0, 2, 1]}, 22.0)\n"
     ]
    }
   ],
   "source": [
    "best_solution = local_search(w1, n1, greedy_naive_solution)\n",
    "# best_solution = local_search(w2)\n",
    "print(\"лучшее разбиение на клики:\", best_solution)"
   ]
  },
  {
   "cell_type": "code",
   "execution_count": null,
   "metadata": {},
   "outputs": [],
   "source": [
    "def tabu_search(w, constructive_func, max_k, len_tl, save_iters=False):\n",
    "    cur_solution = initial_partition(w)\n",
    "    cur_objective = obj_function(w, cur_solution)\n",
    "    \n",
    "    tabu_lst, k = set(), 0\n",
    "    best_solution, best_objective = cur_solution, cur_objective\n",
    "    \n",
    "    m = initialize_matrix(w, cur_solution)\n",
    "    n, num_cliques = len(w), len(cur_solution)\n",
    "\n",
    "    while k < max_k:\n",
    "        i, j = np.unravel_index(np.argmax(M), M.shape)\n",
    "        max_delta = m[i, j]\n",
    "        \n",
    "        if max_delta == 0: # не менять на <= 0 (?)\n",
    "            break\n",
    "        \n",
    "\n",
    "    \n",
    "    return best_solution, best_objective"
   ]
  },
  {
   "cell_type": "code",
   "execution_count": 29,
   "metadata": {},
   "outputs": [
    {
     "data": {
      "text/plain": [
       "[5, 6]"
      ]
     },
     "execution_count": 29,
     "metadata": {},
     "output_type": "execute_result"
    }
   ],
   "source": [
    "list1 = [1, 2, 3, 4]\n",
    "list2 = [3, 4, 5, 6]\n",
    "\n",
    "[item for item in list2 if item not in list1]"
   ]
  },
  {
   "cell_type": "code",
   "execution_count": null,
   "metadata": {},
   "outputs": [],
   "source": []
  }
 ],
 "metadata": {
  "kernelspec": {
   "display_name": "Python 3 (ipykernel)",
   "language": "python",
   "name": "python3"
  },
  "language_info": {
   "codemirror_mode": {
    "name": "ipython",
    "version": 3
   },
   "file_extension": ".py",
   "mimetype": "text/x-python",
   "name": "python",
   "nbconvert_exporter": "python",
   "pygments_lexer": "ipython3",
   "version": "3.12.4"
  }
 },
 "nbformat": 4,
 "nbformat_minor": 4
}
